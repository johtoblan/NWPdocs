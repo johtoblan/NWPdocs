{
 "cells": [
  {
   "cell_type": "markdown",
   "metadata": {},
   "source": [
    "# How to access latest weather forecast data\n",
    "\n",
    "The weather forecast model output is available as [NetCDF](https://www.unidata.ucar.edu/software/netcdf/) files on https://thredds.met.no/thredds/catalog.html and the files follow the [NetCDF/CF conventions](http://cfconventions.org/). This page documents how to navigate and access the data archived under [Weather Forecasts](https://thredds.met.no/thredds/metno.html). This page also documents how to access subsets of these files (So as to not have to download multiple GB of data)\n",
    "\n",
    "Note also, that all communication to the thredds-server at Met requires a HTTPS connection, any HTTP-request reply with http error code 410: ([410 Gone](https://tools.ietf.org/html/rfc7231#section-6.5.9)). \n",
    "\n"
   ]
  },
  {
   "cell_type": "markdown",
   "metadata": {},
   "source": [
    "## Navigating Thredds\n",
    "\n",
    "When accesing the [Weather Forecasts](https://thredds.met.no/thredds/metno.html) directory, the following screen greets you:\n",
    "\n",
    "![image.png](../images/weather_forecast_folder.png)\n",
    "\n",
    "\n",
    "For how to access the file itself see [Subsetting](#subsetting)"
   ]
  },
  {
   "cell_type": "markdown",
   "metadata": {},
   "source": [
    "### MetCoOp Ensemble Prediction System (MEPS)\n"
   ]
  },
  {
   "cell_type": "markdown",
   "metadata": {},
   "source": [
    "### MET AROME Arctic\n"
   ]
  },
  {
   "cell_type": "markdown",
   "metadata": {},
   "source": [
    "### MET post-processed products\n"
   ]
  },
  {
   "cell_type": "markdown",
   "metadata": {},
   "source": [
    "### Other products\n"
   ]
  },
  {
   "cell_type": "markdown",
   "metadata": {},
   "source": [
    "### Old forecast products"
   ]
  },
  {
   "cell_type": "markdown",
   "metadata": {},
   "source": [
    "## Subsetting <a name=\"subsetting\"></a>\n",
    "Following are some examples of how to access the files from the thredds-server using the [OPeNDAP](https://www.opendap.org/)-protocol. There is also an option to download using a HTTPS-Server, though this is not adviced due to the file sizes involved\n"
   ]
  },
  {
   "cell_type": "markdown",
   "metadata": {},
   "source": [
    "### Subsetting using OPeNDAP web access form\n",
    "\n"
   ]
  },
  {
   "cell_type": "markdown",
   "metadata": {},
   "source": [
    "### Subsetting using NetCDF libraries\n",
    "See (Python) "
   ]
  },
  {
   "cell_type": "markdown",
   "metadata": {},
   "source": [
    "### Subsetting using Fimex\n"
   ]
  },
  {
   "cell_type": "markdown",
   "metadata": {},
   "source": []
  }
 ],
 "metadata": {
  "kernelspec": {
   "display_name": "Python 3",
   "language": "python",
   "name": "python3"
  },
  "language_info": {
   "codemirror_mode": {
    "name": "ipython",
    "version": 3
   },
   "file_extension": ".py",
   "mimetype": "text/x-python",
   "name": "python",
   "nbconvert_exporter": "python",
   "pygments_lexer": "ipython3",
   "version": "3.8.3"
  }
 },
 "nbformat": 4,
 "nbformat_minor": 4
}
