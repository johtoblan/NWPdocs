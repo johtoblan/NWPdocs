{
 "cells": [
  {
   "cell_type": "markdown",
   "metadata": {},
   "source": [
    "## MET Norway NWP wiki\n",
    "This wiki describes the numerical weather prediction (NWP) forecast products at MET Norway, and how to use them.\n",
    "\n",
    "The forecast data are available as NetCDF files on this [thredds server](https://thredds.met.no/thredds/metno.html). For guidance on protocols, data acces etc, see [here](https://github.com/metno/NWPdocs/wiki/Data-access).\n",
    "\n",
    "The main weather forecast models at MET Norway are MetCoOp Ensemble Prediction System (**MEPS**) and **AROME-Arctic**. More details about the models are available [here](https://github.com/metno/NWPdocs/wiki/MEPS-AROME-Arctic)\n",
    "\n",
    "A basic description of the contents and structure of the model files are given [here](https://github.com/metno/NWPdocs/wiki/Files)\n",
    "\n",
    "**Archive strategy** for MEPS / AROME-Arctic data are described [here](https://github.com/metno/NWPdocs/wiki/What-is-an-ensemble). \n",
    "\n",
    "**The post processed products** which form basis of forecasts on yr are described in detail [here](https://github.com/metno/NWPdocs/wiki/Post-processed-products).\n",
    "\n",
    "\n"
   ]
  }
 ],
 "metadata": {
  "kernelspec": {
   "display_name": "Python 3",
   "language": "python",
   "name": "python3"
  },
  "language_info": {
   "codemirror_mode": {
    "name": "ipython",
    "version": 3
   },
   "file_extension": ".py",
   "mimetype": "text/x-python",
   "name": "python",
   "nbconvert_exporter": "python",
   "pygments_lexer": "ipython3",
   "version": "3.8.3"
  }
 },
 "nbformat": 4,
 "nbformat_minor": 4
}
