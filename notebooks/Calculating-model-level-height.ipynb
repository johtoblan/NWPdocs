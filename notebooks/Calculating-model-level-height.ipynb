{
 "cells": [
  {
   "cell_type": "markdown",
   "metadata": {},
   "source": [
    "## Calculating model level height\n",
    "Some files in e.g. [AROME-Arctic full files](https://thredds.met.no/thredds/dodsC/aromearcticlatest/arome_arctic_full_2_5km_latest.nc.html) have parameters on model levels, such as _\"air\\_temperature\\_ml\"_. The height of the model level is usually derived from the parameter _\"geopotential\\_ml\"_, but some times this parameter might not be available. In the following we explain how to calculate this yourselves from other information in the file.\n",
    "\n",
    "The model level coordinate is a hybrid that follows the ground near bottom, and gradually converts to pressure level coordinates higher in the atmosphere.\n",
    "The height of each model level depends on place and time (weather). Originally, the matter is made more complicated since the pressure is given on “half-levels” whereas $T$, $u$, $v$ and $q$ are on full levels; however, in the NetCDF output all parameters are given on full levels so we avoid this complication.\n",
    "\n"
   ]
  },
  {
   "cell_type": "markdown",
   "metadata": {},
   "source": [
    "Pressure on the different model levels is given by\n",
    "\n",
    "$p = a_0 + b_0*p_s$\n",
    "\n",
    "where $a_0$ and $b_0$ are constants in the NetCDF-file, and $p_s$ is surface pressure. Then one must integrate from ground up, approximately assuming hydrostatic balance given by:\n",
    "\n",
    "$\\frac{dp}{dz} = - \\rho * g $\n",
    "\n",
    "where $\\rho$ is air density, and $g$ is gravitational acceleration. Thus the approximation of $Z$ may be given by:\n",
    "\n",
    "$Z_k = Z_{k+1} + (R \\frac{T_k}{g})\\ln (\\frac{p_{k+1}}{p_{k}})$\n",
    "\n",
    "where k is level number, $R = 287.058 \\frac{J}{kg\\cdot K}$ (Specific gas constant for dry air, given metric units), $T$ is temperature in Kelving (really virtual temperature, but T approximately) and $p$ is pressure. The first $Z$ from ground is of course $0$"
   ]
  },
  {
   "cell_type": "code",
   "execution_count": null,
   "metadata": {},
   "outputs": [],
   "source": []
  }
 ],
 "metadata": {
  "kernelspec": {
   "display_name": "Python 3",
   "language": "python",
   "name": "python3"
  },
  "language_info": {
   "codemirror_mode": {
    "name": "ipython",
    "version": 3
   },
   "file_extension": ".py",
   "mimetype": "text/x-python",
   "name": "python",
   "nbconvert_exporter": "python",
   "pygments_lexer": "ipython3",
   "version": "3.8.3"
  }
 },
 "nbformat": 4,
 "nbformat_minor": 4
}
