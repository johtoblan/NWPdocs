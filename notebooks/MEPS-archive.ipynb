{
 "cells": [
  {
   "cell_type": "markdown",
   "metadata": {},
   "source": [
    "# Archive strategy for MEPS \n"
   ]
  },
  {
   "cell_type": "markdown",
   "metadata": {},
   "source": [
    "## 2016.11.08 - 2020.02.03 "
   ]
  },
  {
   "cell_type": "markdown",
   "metadata": {},
   "source": [
    "Filtyper fra Files"
   ]
  },
  {
   "cell_type": "markdown",
   "metadata": {},
   "source": [
    "## 2020.02.03 - Current"
   ]
  },
  {
   "cell_type": "markdown",
   "metadata": {},
   "source": [
    "The 4th of February 2020, MEPS changed the vil MEPS endre kjøremønster. Dette gjør at alle filer vil endres, og det blir endring i hva som arkiveres og hvordan. Det nye oppsettet kjører nå operasjonelt, og medfører at innholdet er endret under “MetCoOp Ensemble Prediction System (MEPS)” på https://thredds.met.no/thredds/metno.html.\n",
    "Endringer i grove trekk\n",
    "\n",
    "    Domenet blir 20% større\n",
    "    Det kommer flere ensemble-medlemmer\n",
    "    Extracted, full og sfx filer erstattes med:\n",
    "        En deterministisk fil (_det_) med alle parametre som oppdateres hver 3. time (arkiveres)\n",
    "        En “latest” fil med et lite utplukk parametre fra hele ensemblet som oppdateres hver eneste time (arkiveres ikke)\n",
    "        En “subset” fil med en god del parametre fra hele ensemblet, oppdateres hver 3. time (arkiveres hver 6. time)\n",
    "    Filer i latest-katalogen vil i stor grad endres til “ncml” filer. Disse kan ikke lenger lastes ned direkte, men må aksesseres via OPeNDAP. Ellers skal de fungere på samme måte som netcdf-filer, men er en overbygning som peker til flere nc-filer i bakgrunnen\n",
    "    pp-filer utgår. For post prosesserte produkter henviser vi til yr-produksjonen under MET post-processed products Latest/\n",
    "    Vi arkiverer ikke lenger all informasjon fra alle ensemblemedlemmer. Vi gjør et utplukk i en \"subset\" fil som arkiveres hver 6. time. Merk spesielt at informasjon på modellflater kun arkiveres for kontrollmedlemmet, ikke for hele ensemblet\n",
    "    Parametere fra surfex vil få “SFX_” i starten av variabelnavnet\n",
    "\n",
    "Hvorfor gjøres endringen\n",
    "\n",
    "MEPS har frem til nå kjørt med 10 medlemmer med lange terminer fire ganger i døgnet (00,06,12,18). Dette har medført en ujevn fordeling av regneressurser på tungregnemaskinen gjennom døgnet. Derfor har man bestemt å endre til en mer kontinuerlig kjørerutine der det kjøres fem medlemmer hver time. Alle medlemmer kjøres med 66 timers prognoselengde, slik at ensemble-filene vil inneholde 30 medlemmer, der noen er lagget opptil 6 timer. Kontrollmedlemmet vil ikke være lagget. Med det økte antall medlemmer og domene er det ikke lenger mulig å arkivere like mye som vi gjør idag, derfor gjennomfører vi denne reorganiseringen.\n"
   ]
  },
  {
   "cell_type": "markdown",
   "metadata": {},
   "source": [
    "# Archive strategy for Arome Arctic"
   ]
  },
  {
   "cell_type": "code",
   "execution_count": null,
   "metadata": {},
   "outputs": [],
   "source": []
  }
 ],
 "metadata": {
  "kernelspec": {
   "display_name": "Python 3",
   "language": "python",
   "name": "python3"
  },
  "language_info": {
   "codemirror_mode": {
    "name": "ipython",
    "version": 3
   },
   "file_extension": ".py",
   "mimetype": "text/x-python",
   "name": "python",
   "nbconvert_exporter": "python",
   "pygments_lexer": "ipython3",
   "version": "3.8.3"
  }
 },
 "nbformat": 4,
 "nbformat_minor": 4
}
